{
 "cells": [
  {
   "cell_type": "markdown",
   "id": "10eda71e",
   "metadata": {
    "pycharm": {
     "name": "#%% md\n"
    }
   },
   "source": [
    "### File to compile results at both intraoperative and preoperative level for all outcomes\n",
    "\n",
    "#### Input: pred_stage, outcome name, result file location "
   ]
  },
  {
   "cell_type": "code",
   "execution_count": 2,
   "id": "36c12588",
   "metadata": {
    "pycharm": {
     "name": "#%%\n"
    }
   },
   "outputs": [],
   "source": [
    "import pickle\n",
    "import json\n",
    "import os\n",
    "import numpy as np\n",
    "import pandas as pd\n",
    "import math\n",
    "from datetime import datetime\n",
    "import matplotlib.pyplot as plt\n",
    "import pprint"
   ]
  },
  {
   "cell_type": "code",
   "execution_count": 13,
   "id": "90c30c4a",
   "metadata": {
    "pycharm": {
     "name": "#%%\n"
    }
   },
   "outputs": [],
   "source": [
    "# result location \n",
    "pred_stage = 'Preoperative'  # {'Preoperative', 'Intraoperative'}\n",
    "outcome_list= ['icu', 'mortality']\n",
    "sav_dir = '/home/trips/PeriOperative_RiskPrediction/Best_results/' + pred_stage +\"/\""
   ]
  },
  {
   "cell_type": "code",
   "execution_count": 14,
   "id": "833184ad",
   "metadata": {
    "pycharm": {
     "name": "#%%\n"
    }
   },
   "outputs": [
    {
     "name": "stdout",
     "output_type": "stream",
     "text": [
      " Outcome  icu  AUROC\n",
      "                                     icu              \n",
      "                                  TabNet  Scarf   XGBT\n",
      "preops_cbow                        0.898  0.909  0.969\n",
      "preops_cbow_homemeds               0.921  0.824  0.974\n",
      "preops_cbow_pmh_problist_homemeds  0.912  0.877  0.974\n",
      "\n",
      " Outcome  icu  AUPRC\n",
      "                                     icu              \n",
      "                                  TabNet  Scarf   XGBT\n",
      "preops_cbow                        0.642  0.649  0.885\n",
      "preops_cbow_homemeds               0.693  0.369  0.896\n",
      "preops_cbow_pmh_problist_homemeds  0.651  0.502  0.895\n",
      " Outcome  mortality  AUROC\n",
      "                                  mortality              \n",
      "                                       XGBT  Scarf TabNet\n",
      "preops_cbow                           0.943  0.897    0.9\n",
      "preops_cbow_homemeds                  0.947   0.89  0.912\n",
      "preops_cbow_pmh_problist_homemeds     0.945  0.873  0.919\n",
      "\n",
      " Outcome  mortality  AUPRC\n",
      "                                  mortality              \n",
      "                                       XGBT  Scarf TabNet\n",
      "preops_cbow                           0.435  0.197   0.23\n",
      "preops_cbow_homemeds                  0.484   0.16  0.278\n",
      "preops_cbow_pmh_problist_homemeds     0.547   0.15  0.236\n"
     ]
    }
   ],
   "source": [
    "for outcome in outcome_list:\n",
    "    perf_filename = sav_dir + str(outcome) + '_Best_perf_metrics_combined_' + pred_stage.lower() + '.pickle'\n",
    "    with open(perf_filename, 'rb') as file:\n",
    "        metric_data = pickle.load(file)\n",
    "    model_name_list = list(metric_data.keys())\n",
    "    ablation_name_list = list(metric_data[model_name_list[0]].keys())\n",
    "    ablation_name_list_pretty = [i.split(\"_\",1)[1] for i in ablation_name_list]\n",
    "    \n",
    "    df_auroc = pd.DataFrame(columns=model_name_list, index=ablation_name_list)\n",
    "    df_auprc = pd.DataFrame(columns=model_name_list, index=ablation_name_list)\n",
    "\n",
    "    for key, value in metric_data.items():\n",
    "        for ab in ablation_name_list:\n",
    "            df_auroc.loc[ab, key] = np.round(np.mean(value[ab][:,0]), decimals=3)\n",
    "            df_auprc.loc[ab, key] = np.round(np.mean(value[ab][:,1]), decimals=3)\n",
    "\n",
    "    # renaming the index\n",
    "    df_auroc = df_auroc.rename(index=dict(zip(df_auroc.index, ablation_name_list_pretty)))\n",
    "    df_auprc = df_auprc.rename(index=dict(zip(df_auprc.index, ablation_name_list_pretty)))\n",
    "    \n",
    "    new_columns = [(outcome, col) for col in df_auroc.columns]\n",
    "    new_column_index = pd.MultiIndex.from_tuples(new_columns)\n",
    "    \n",
    "    df_auroc.columns = new_column_index\n",
    "    df_auprc.columns = new_column_index\n",
    "\n",
    "    print(\" Outcome \", outcome, \" AUROC\")\n",
    "    pprint.pp(df_auroc)\n",
    "    print(\"\\n Outcome \", outcome, \" AUPRC\")\n",
    "    pprint.pp(df_auprc)"
   ]
  },
  {
   "cell_type": "code",
   "execution_count": 15,
   "id": "54a92123",
   "metadata": {
    "pycharm": {
     "name": "#%%\n"
    }
   },
   "outputs": [],
   "source": [
    "# result location \n",
    "pred_stage = 'Intraoperative'  # {'Preoperative', 'Intraoperative'}\n",
    "outcome_list= ['icu', 'mortality']\n",
    "sav_dir = '/home/trips/PeriOperative_RiskPrediction/Best_results/' + pred_stage +\"/\""
   ]
  },
  {
   "cell_type": "code",
   "execution_count": 18,
   "id": "0ac845da",
   "metadata": {
    "pycharm": {
     "name": "#%%\n"
    }
   },
   "outputs": [
    {
     "name": "stdout",
     "output_type": "stream",
     "text": [
      " Outcome  icu  AUROC\n",
      "                                                      icu                  \n",
      "                                                     MVCL       transformer\n",
      "meds                                                0.846  Yet to be filled\n",
      "flow                                                0.924  Yet to be filled\n",
      "flow_meds                                           0.931  Yet to be filled\n",
      "preops_flow_meds                                    0.973  Yet to be filled\n",
      "preops_homemeds_flow_meds                           0.974  Yet to be filled\n",
      "preops_pmh_problist_homemeds_flow_meds              0.975             0.927\n",
      "preops_pmh_problist_homemeds_flow_meds_postopco...  0.932  Yet to be filled\n",
      "\n",
      " Outcome  icu  AUPRC\n",
      "                                                      icu                  \n",
      "                                                     MVCL       transformer\n",
      "meds                                                0.488  Yet to be filled\n",
      "flow                                                0.674  Yet to be filled\n",
      "flow_meds                                           0.703  Yet to be filled\n",
      "preops_flow_meds                                    0.893  Yet to be filled\n",
      "preops_homemeds_flow_meds                             0.9  Yet to be filled\n",
      "preops_pmh_problist_homemeds_flow_meds              0.902             0.673\n",
      "preops_pmh_problist_homemeds_flow_meds_postopco...  0.699  Yet to be filled\n",
      " Outcome  mortality  AUROC\n",
      "                                                   mortality                  \n",
      "                                                        MVCL              lstm\n",
      "meds                                                   0.829              0.83\n",
      "flow                                                   0.871  Yet to be filled\n",
      "flow_meds                                              0.894  Yet to be filled\n",
      "preops_flow_meds                                       0.937  Yet to be filled\n",
      "preops_homemeds_flow_meds                              0.945  Yet to be filled\n",
      "preops_pmh_problist_homemeds_flow_meds                 0.948  Yet to be filled\n",
      "preops_pmh_problist_homemeds_flow_meds_postopco...     0.944  Yet to be filled\n",
      "\n",
      " Outcome  mortality  AUPRC\n",
      "                                                   mortality                  \n",
      "                                                        MVCL              lstm\n",
      "meds                                                   0.178             0.145\n",
      "flow                                                   0.222  Yet to be filled\n",
      "flow_meds                                              0.277  Yet to be filled\n",
      "preops_flow_meds                                        0.41  Yet to be filled\n",
      "preops_homemeds_flow_meds                              0.481  Yet to be filled\n",
      "preops_pmh_problist_homemeds_flow_meds                 0.558  Yet to be filled\n",
      "preops_pmh_problist_homemeds_flow_meds_postopco...     0.543  Yet to be filled\n"
     ]
    }
   ],
   "source": [
    "for outcome in outcome_list:\n",
    "    perf_filename = sav_dir + str(outcome) + '_Best_perf_metrics_combined_' + pred_stage.lower() + '.pickle'\n",
    "    with open(perf_filename, 'rb') as file:\n",
    "        metric_data = pickle.load(file)\n",
    "    model_name_list = list(metric_data.keys())\n",
    "    ablation_name_list = list(metric_data[model_name_list[0]].keys())\n",
    "    ablation_name_list_pretty = [i.split(\"_\",1)[1] for i in ablation_name_list]\n",
    "    \n",
    "    df_auroc = pd.DataFrame(columns=model_name_list, index=ablation_name_list)\n",
    "    df_auprc = pd.DataFrame(columns=model_name_list, index=ablation_name_list)\n",
    "\n",
    "    for key, value in metric_data.items():\n",
    "        for ab in ablation_name_list:\n",
    "            try:\n",
    "                df_auroc.loc[ab, key] = np.round(np.mean(value[ab][:,0]), decimals=3)\n",
    "                df_auprc.loc[ab, key] = np.round(np.mean(value[ab][:,1]), decimals=3)\n",
    "            except(KeyError):\n",
    "                df_auroc.loc[ab, key] = 'Yet to be filled'\n",
    "                df_auprc.loc[ab, key] = 'Yet to be filled'\n",
    "\n",
    "    # renaming the index\n",
    "    df_auroc = df_auroc.rename(index=dict(zip(df_auroc.index, ablation_name_list_pretty)))\n",
    "    df_auprc = df_auprc.rename(index=dict(zip(df_auprc.index, ablation_name_list_pretty)))\n",
    "    \n",
    "    new_columns = [(outcome, col) for col in df_auroc.columns]\n",
    "    new_column_index = pd.MultiIndex.from_tuples(new_columns)\n",
    "    \n",
    "    df_auroc.columns = new_column_index\n",
    "    df_auprc.columns = new_column_index\n",
    "\n",
    "    print(\" Outcome \", outcome, \" AUROC\")\n",
    "    pprint.pp(df_auroc)\n",
    "    print(\"\\n Outcome \", outcome, \" AUPRC\")\n",
    "    pprint.pp(df_auprc)"
   ]
  },
  {
   "cell_type": "code",
   "execution_count": null,
   "id": "8a4fc019",
   "metadata": {
    "pycharm": {
     "name": "#%%\n"
    }
   },
   "outputs": [],
   "source": []
  }
 ],
 "metadata": {
  "kernelspec": {
   "display_name": "Python 3 (ipykernel)",
   "language": "python",
   "name": "python3"
  },
  "language_info": {
   "codemirror_mode": {
    "name": "ipython",
    "version": 3
   },
   "file_extension": ".py",
   "mimetype": "text/x-python",
   "name": "python",
   "nbconvert_exporter": "python",
   "pygments_lexer": "ipython3",
   "version": "3.9.18"
  }
 },
 "nbformat": 4,
 "nbformat_minor": 5
}