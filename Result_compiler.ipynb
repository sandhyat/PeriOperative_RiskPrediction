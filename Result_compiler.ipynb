{
 "cells": [
  {
   "cell_type": "markdown",
   "id": "10eda71e",
   "metadata": {
    "pycharm": {
     "name": "#%% md\n"
    }
   },
   "source": [
    "### File to compile results at both intraoperative and preoperative level for all outcomes\n",
    "\n",
    "#### Input: pred_stage, outcome name, result file location "
   ]
  },
  {
   "cell_type": "code",
   "execution_count": 1,
   "id": "36c12588",
   "metadata": {
    "pycharm": {
     "name": "#%%\n"
    }
   },
   "outputs": [],
   "source": [
    "import pickle\n",
    "import json\n",
    "import os\n",
    "import numpy as np\n",
    "import pandas as pd\n",
    "import math\n",
    "from datetime import datetime\n",
    "import matplotlib.pyplot as plt\n",
    "import pprint"
   ]
  },
  {
   "cell_type": "code",
   "execution_count": 46,
   "id": "90c30c4a",
   "metadata": {
    "pycharm": {
     "name": "#%%\n"
    }
   },
   "outputs": [],
   "source": [
    "# result location \n",
    "pred_stage = 'Preoperative'  # {'Preoperative', 'Intraoperative'}\n",
    "outcome_list= ['icu', 'mortality', 'aki2']\n",
    "reg_outcome_list =['postop_los', 'opioids_count_day0', 'opioids_count_day1']\n",
    "sav_dir = '/mnt/ris/sandhyat/Output-TS_docker_July2024/Best_results/' + pred_stage +\"/\"\n",
    "# sav_dir = '/home/trips/PeriOperative_RiskPrediction/Best_results/' + pred_stage +\"/\""
   ]
  },
  {
   "cell_type": "code",
   "execution_count": 48,
   "id": "833184ad",
   "metadata": {
    "pycharm": {
     "name": "#%%\n"
    }
   },
   "outputs": [
    {
     "name": "stdout",
     "output_type": "stream",
     "text": [
      "                                     icu               mortality         \\\n",
      "                                  TabNet  Scarf   XGBT      XGBT  Scarf   \n",
      "preops_cbow                        0.898  0.909  0.969     0.943  0.897   \n",
      "preops_cbow_homemeds               0.921  0.824  0.974     0.947   0.89   \n",
      "preops_cbow_pmh_problist_homemeds  0.912  0.877  0.974     0.945  0.873   \n",
      "\n",
      "                                           aki2         \n",
      "                                  TabNet   XGBT TabNet  \n",
      "preops_cbow                          0.9  0.948   0.91  \n",
      "preops_cbow_homemeds               0.912   0.95   0.91  \n",
      "preops_cbow_pmh_problist_homemeds  0.919  0.952  0.906  \n",
      "\\begin{tabular}{lllllllll}\n",
      "\\toprule\n",
      "{} & \\multicolumn{3}{l}{icu} & \\multicolumn{3}{l}{mortality} & \\multicolumn{2}{l}{aki2} \\\\\n",
      "{} & TabNet &  Scarf &   XGBT &      XGBT &  Scarf & TabNet &   XGBT & TabNet \\\\\n",
      "\\midrule\n",
      "preops\\_cbow                       &  0.898 &  0.909 &  0.969 &     0.943 &  0.897 &    0.9 &  0.948 &   0.91 \\\\\n",
      "preops\\_cbow\\_homemeds              &  0.921 &  0.824 &  0.974 &     0.947 &   0.89 &  0.912 &   0.95 &   0.91 \\\\\n",
      "preops\\_cbow\\_pmh\\_problist\\_homemeds &  0.912 &  0.877 &  0.974 &     0.945 &  0.873 &  0.919 &  0.952 &  0.906 \\\\\n",
      "\\bottomrule\n",
      "\\end{tabular}\n",
      "\n"
     ]
    },
    {
     "name": "stderr",
     "output_type": "stream",
     "text": [
      "/tmp/ipykernel_1239913/1806575560.py:42: FutureWarning: In future versions `DataFrame.to_latex` is expected to utilise the base implementation of `Styler.to_latex` for formatting and rendering. The arguments signature may therefore change. It is recommended instead to use `DataFrame.style.to_latex` which also contains additional functionality.\n",
      "  auroc_latex = AUROC_comb.to_latex()\n"
     ]
    }
   ],
   "source": [
    "comb_flag =0\n",
    "for outcome in outcome_list:\n",
    "    perf_filename = sav_dir + str(outcome) + '_Best_perf_metrics_combined_' + pred_stage.lower() + '.pickle'\n",
    "    with open(perf_filename, 'rb') as file:\n",
    "        metric_data = pickle.load(file)\n",
    "    model_name_list = list(metric_data.keys())\n",
    "    ablation_name_list = list(metric_data[model_name_list[0]].keys())\n",
    "    ablation_name_list_pretty = [i.split(\"_\",1)[1] for i in ablation_name_list]\n",
    "    \n",
    "    df_auroc = pd.DataFrame(columns=model_name_list, index=ablation_name_list)\n",
    "    df_auprc = pd.DataFrame(columns=model_name_list, index=ablation_name_list)\n",
    "\n",
    "    for key, value in metric_data.items():\n",
    "        for ab in ablation_name_list:\n",
    "            df_auroc.loc[ab, key] = np.round(np.mean(value[ab][:,0]), decimals=3)\n",
    "            df_auprc.loc[ab, key] = np.round(np.mean(value[ab][:,1]), decimals=3)\n",
    "\n",
    "    # renaming the index\n",
    "    df_auroc = df_auroc.rename(index=dict(zip(df_auroc.index, ablation_name_list_pretty)))\n",
    "    df_auprc = df_auprc.rename(index=dict(zip(df_auprc.index, ablation_name_list_pretty)))\n",
    "    \n",
    "    new_columns = [(outcome, col) for col in df_auroc.columns]\n",
    "    new_column_index = pd.MultiIndex.from_tuples(new_columns)\n",
    "    \n",
    "    df_auroc.columns = new_column_index\n",
    "    df_auprc.columns = new_column_index\n",
    "\n",
    "    if comb_flag==0:\n",
    "        AUROC_comb = df_auroc\n",
    "        AUPRC_comb = df_auprc\n",
    "    else:\n",
    "        AUROC_comb = pd.concat([AUROC_comb, df_auroc], axis=1)\n",
    "        AUPRC_comb = pd.concat([AUPRC_comb, df_auprc], axis=1)\n",
    "    comb_flag = comb_flag + 1\n",
    "#     print(\" Outcome \", outcome, \" AUROC\")\n",
    "#     pprint.pp(df_auroc)\n",
    "#     print(\"\\n Outcome \", outcome, \" AUPRC\")\n",
    "#     pprint.pp(df_auprc)\n",
    "# pprint.pp(AUROC_comb)\n",
    "# pprint.pp(AUPRC_comb)\n",
    "print(AUROC_comb)\n",
    "auroc_latex = AUROC_comb.to_latex()\n",
    "print(auroc_latex)"
   ]
  },
  {
   "cell_type": "code",
   "execution_count": 49,
   "id": "22d855b2",
   "metadata": {},
   "outputs": [
    {
     "name": "stdout",
     "output_type": "stream",
     "text": [
      "                                  postop_los        opioids_count_day0         \\\n",
      "                                        XGBT TabNet               XGBT  Scarf   \n",
      "preops_cbow                            0.437  0.383              0.315  0.108   \n",
      "preops_cbow_homemeds                   0.461  0.213              0.319  0.087   \n",
      "preops_cbow_pmh_problist_homemeds      0.575    0.5              0.317  0.074   \n",
      "\n",
      "                                         opioids_count_day1         \n",
      "                                  TabNet               XGBT TabNet  \n",
      "preops_cbow                        0.257              0.425    0.4  \n",
      "preops_cbow_homemeds               0.264              0.431  0.352  \n",
      "preops_cbow_pmh_problist_homemeds  0.192              0.425  0.357  \n",
      "\\begin{tabular}{llllllll}\n",
      "\\toprule\n",
      "{} & \\multicolumn{2}{l}{postop\\_los} & \\multicolumn{3}{l}{opioids\\_count\\_day0} & \\multicolumn{2}{l}{opioids\\_count\\_day1} \\\\\n",
      "{} &       XGBT & TabNet &               XGBT &  Scarf & TabNet &               XGBT & TabNet \\\\\n",
      "\\midrule\n",
      "preops\\_cbow                       &      0.437 &  0.383 &              0.315 &  0.108 &  0.257 &              0.425 &    0.4 \\\\\n",
      "preops\\_cbow\\_homemeds              &      0.461 &  0.213 &              0.319 &  0.087 &  0.264 &              0.431 &  0.352 \\\\\n",
      "preops\\_cbow\\_pmh\\_problist\\_homemeds &      0.575 &    0.5 &              0.317 &  0.074 &  0.192 &              0.425 &  0.357 \\\\\n",
      "\\bottomrule\n",
      "\\end{tabular}\n",
      "\n"
     ]
    },
    {
     "name": "stderr",
     "output_type": "stream",
     "text": [
      "/tmp/ipykernel_1239913/4003630604.py:44: FutureWarning: In future versions `DataFrame.to_latex` is expected to utilise the base implementation of `Styler.to_latex` for formatting and rendering. The arguments signature may therefore change. It is recommended instead to use `DataFrame.style.to_latex` which also contains additional functionality.\n",
      "  R2_latex = R2_comb.to_latex()\n"
     ]
    }
   ],
   "source": [
    "comb_flag=0\n",
    "for outcome in reg_outcome_list:\n",
    "    perf_filename = sav_dir + str(outcome) + '_Best_perf_metrics_combined_' + pred_stage.lower() + '.pickle'\n",
    "    with open(perf_filename, 'rb') as file:\n",
    "        metric_data = pickle.load(file)\n",
    "    model_name_list = list(metric_data.keys())\n",
    "    ablation_name_list = list(metric_data[model_name_list[0]].keys())\n",
    "    ablation_name_list_pretty = [i.split(\"_\",1)[1] for i in ablation_name_list]\n",
    "    \n",
    "    df_Corr = pd.DataFrame(columns=model_name_list, index=ablation_name_list)\n",
    "    df_R2 = pd.DataFrame(columns=model_name_list, index=ablation_name_list)\n",
    "    \n",
    "    for key, value in metric_data.items():\n",
    "        for ab in ablation_name_list:\n",
    "            try:\n",
    "                df_Corr.loc[ab, key] = np.round(np.mean(value[ab][:,0]), decimals=3)\n",
    "                df_R2.loc[ab, key] = np.round(np.mean(value[ab][:,2]), decimals=3)\n",
    "            except(KeyError):\n",
    "                df_Corr.loc[ab, key] = 'TBF'\n",
    "                df_R2.loc[ab, key] = 'TBF'\n",
    "\n",
    "    # renaming the index\n",
    "    df_Corr = df_Corr.rename(index=dict(zip(df_Corr.index, ablation_name_list_pretty)))\n",
    "    df_R2 = df_R2.rename(index=dict(zip(df_R2.index, ablation_name_list_pretty)))\n",
    "    \n",
    "    new_columns = [(outcome, col) for col in df_Corr.columns]\n",
    "    new_column_index = pd.MultiIndex.from_tuples(new_columns)\n",
    "    \n",
    "    df_Corr.columns = new_column_index\n",
    "    df_R2.columns = new_column_index\n",
    "    if comb_flag==0:\n",
    "        Corr_comb = df_Corr\n",
    "        R2_comb = df_R2\n",
    "    else:\n",
    "        Corr_comb = pd.concat([Corr_comb, df_Corr], axis=1)\n",
    "        R2_comb = pd.concat([R2_comb, df_R2], axis=1)\n",
    "    comb_flag = comb_flag + 1\n",
    "\n",
    "#     print(\" Outcome \", outcome, \" Correlation\")\n",
    "#     pprint.pp(df_Corr)\n",
    "#     print(\"\\n Outcome \", outcome, \" R2 score\")\n",
    "#     pprint.pp(df_R2)\n",
    "pprint.pp(R2_comb)\n",
    "R2_latex = R2_comb.to_latex()\n",
    "print(R2_latex)"
   ]
  },
  {
   "cell_type": "code",
   "execution_count": 52,
   "id": "54a92123",
   "metadata": {
    "pycharm": {
     "name": "#%%\n"
    }
   },
   "outputs": [],
   "source": [
    "# result location \n",
    "pred_stage = 'Intraoperative'  # {'Preoperative', 'Intraoperative'}\n",
    "outcome_list= ['icu', 'mortality', 'aki2']\n",
    "reg_outcome_list =['postop_los', 'opioids_count_day0', 'opioids_count_day1']\n",
    "sav_dir = '/mnt/ris/sandhyat/Output-TS_docker_July2024/Best_results/' + pred_stage +\"/\"\n",
    "# sav_dir = '/home/trips/PeriOperative_RiskPrediction/Best_results/' + pred_stage +\"/\""
   ]
  },
  {
   "cell_type": "code",
   "execution_count": 54,
   "id": "0ac845da",
   "metadata": {
    "pycharm": {
     "name": "#%%\n"
    },
    "scrolled": true
   },
   "outputs": [
    {
     "name": "stdout",
     "output_type": "stream",
     "text": [
      "                                                      icu                   \\\n",
      "                                                     MVCL   lstm XGBTtsSum   \n",
      "meds                                                0.847   0.86      0.89   \n",
      "flow                                                0.901  0.914     0.946   \n",
      "flow_meds                                            0.92    TBF     0.947   \n",
      "preops_flow_meds                                    0.972  0.965     0.976   \n",
      "preops_homemeds_flow_meds                           0.974    TBF     0.978   \n",
      "preops_pmh_problist_homemeds_flow_meds              0.976   0.96     0.978   \n",
      "preops_pmh_problist_homemeds_flow_meds_postopco...  0.975    TBF       TBF   \n",
      "\n",
      "                                                   mortality             aki2  \n",
      "                                                   XGBTtsSum   lstm XGBTtsSum  \n",
      "meds                                                   0.883   0.84      0.86  \n",
      "flow                                                   0.928  0.502     0.944  \n",
      "flow_meds                                              0.931  0.867     0.945  \n",
      "preops_flow_meds                                       0.948  0.892     0.952  \n",
      "preops_homemeds_flow_meds                              0.952  0.917     0.953  \n",
      "preops_pmh_problist_homemeds_flow_meds                 0.954   0.87     0.955  \n",
      "preops_pmh_problist_homemeds_flow_meds_postopco...       NaN    NaN       NaN  \n",
      "                                                      icu                   \\\n",
      "                                                     MVCL   lstm XGBTtsSum   \n",
      "meds                                                0.847   0.86      0.89   \n",
      "flow                                                0.901  0.914     0.946   \n",
      "flow_meds                                            0.92    TBF     0.947   \n",
      "preops_flow_meds                                    0.972  0.965     0.976   \n",
      "preops_homemeds_flow_meds                           0.974    TBF     0.978   \n",
      "preops_pmh_problist_homemeds_flow_meds              0.976   0.96     0.978   \n",
      "preops_pmh_problist_homemeds_flow_meds_postopco...  0.975    TBF       TBF   \n",
      "\n",
      "                                                   mortality             aki2  \n",
      "                                                   XGBTtsSum   lstm XGBTtsSum  \n",
      "meds                                                   0.883   0.84      0.86  \n",
      "flow                                                   0.928  0.502     0.944  \n",
      "flow_meds                                              0.931  0.867     0.945  \n",
      "preops_flow_meds                                       0.948  0.892     0.952  \n",
      "preops_homemeds_flow_meds                              0.952  0.917     0.953  \n",
      "preops_pmh_problist_homemeds_flow_meds                 0.954   0.87     0.955  \n",
      "preops_pmh_problist_homemeds_flow_meds_postopco...       NaN    NaN       NaN  \n",
      "\\begin{tabular}{lllllll}\n",
      "\\toprule\n",
      "{} & \\multicolumn{3}{l}{icu} & \\multicolumn{2}{l}{mortality} &      aki2 \\\\\n",
      "{} &   MVCL &   lstm & XGBTtsSum & XGBTtsSum &   lstm & XGBTtsSum \\\\\n",
      "\\midrule\n",
      "meds                                               &  0.847 &   0.86 &      0.89 &     0.883 &   0.84 &      0.86 \\\\\n",
      "flow                                               &  0.901 &  0.914 &     0.946 &     0.928 &  0.502 &     0.944 \\\\\n",
      "flow\\_meds                                          &   0.92 &    TBF &     0.947 &     0.931 &  0.867 &     0.945 \\\\\n",
      "preops\\_flow\\_meds                                   &  0.972 &  0.965 &     0.976 &     0.948 &  0.892 &     0.952 \\\\\n",
      "preops\\_homemeds\\_flow\\_meds                          &  0.974 &    TBF &     0.978 &     0.952 &  0.917 &     0.953 \\\\\n",
      "preops\\_pmh\\_problist\\_homemeds\\_flow\\_meds             &  0.976 &   0.96 &     0.978 &     0.954 &   0.87 &     0.955 \\\\\n",
      "preops\\_pmh\\_problist\\_homemeds\\_flow\\_meds\\_postopco... &  0.975 &    TBF &       TBF &       NaN &    NaN &       NaN \\\\\n",
      "\\bottomrule\n",
      "\\end{tabular}\n",
      "\n"
     ]
    },
    {
     "name": "stderr",
     "output_type": "stream",
     "text": [
      "/tmp/ipykernel_1239913/4274053750.py:45: FutureWarning: In future versions `DataFrame.to_latex` is expected to utilise the base implementation of `Styler.to_latex` for formatting and rendering. The arguments signature may therefore change. It is recommended instead to use `DataFrame.style.to_latex` which also contains additional functionality.\n",
      "  auroc_latex = AUROC_comb.to_latex()\n"
     ]
    }
   ],
   "source": [
    "comb_flag=0\n",
    "for outcome in outcome_list:\n",
    "    perf_filename = sav_dir + str(outcome) + '_Best_perf_metrics_combined_' + pred_stage.lower() + '.pickle'\n",
    "    with open(perf_filename, 'rb') as file:\n",
    "        metric_data = pickle.load(file)\n",
    "    model_name_list = list(metric_data.keys())\n",
    "    ablation_name_list = list(metric_data[model_name_list[0]].keys())\n",
    "    ablation_name_list_pretty = [i.split(\"_\",1)[1] for i in ablation_name_list]\n",
    "    \n",
    "    df_auroc = pd.DataFrame(columns=model_name_list, index=ablation_name_list)\n",
    "    df_auprc = pd.DataFrame(columns=model_name_list, index=ablation_name_list)\n",
    "    for key, value in metric_data.items():\n",
    "        for ab in ablation_name_list:\n",
    "            try:\n",
    "                df_auroc.loc[ab, key] = np.round(np.mean(value[ab][:,0]), decimals=3)\n",
    "                df_auprc.loc[ab, key] = np.round(np.mean(value[ab][:,1]), decimals=3)\n",
    "            except(KeyError):\n",
    "                df_auroc.loc[ab, key] = 'TBF'\n",
    "                df_auprc.loc[ab, key] = 'TBF'\n",
    "\n",
    "    # renaming the index\n",
    "    df_auroc = df_auroc.rename(index=dict(zip(df_auroc.index, ablation_name_list_pretty)))\n",
    "    df_auprc = df_auprc.rename(index=dict(zip(df_auprc.index, ablation_name_list_pretty)))\n",
    "    \n",
    "    new_columns = [(outcome, col) for col in df_auroc.columns]\n",
    "    new_column_index = pd.MultiIndex.from_tuples(new_columns)\n",
    "    \n",
    "    df_auroc.columns = new_column_index\n",
    "    df_auprc.columns = new_column_index\n",
    "\n",
    "    if comb_flag==0:\n",
    "        AUROC_comb = df_auroc\n",
    "        AUPRC_comb = df_auprc\n",
    "    else:\n",
    "        AUROC_comb = pd.concat([AUROC_comb, df_auroc], axis=1)\n",
    "        AUPRC_comb = pd.concat([AUPRC_comb, df_auprc], axis=1)\n",
    "    comb_flag = comb_flag + 1\n",
    "#     print(\" Outcome \", outcome, \" AUROC\")\n",
    "#     pprint.pp(df_auroc)\n",
    "#     print(\"\\n Outcome \", outcome, \" AUPRC\")\n",
    "#     pprint.pp(df_auprc)\n",
    "pprint.pp(AUROC_comb)\n",
    "# pprint.pp(AUPRC_comb)\n",
    "print(AUROC_comb)\n",
    "auroc_latex = AUROC_comb.to_latex()\n",
    "print(auroc_latex)"
   ]
  },
  {
   "cell_type": "code",
   "execution_count": 14,
   "id": "1004c9c5",
   "metadata": {},
   "outputs": [
    {
     "name": "stdout",
     "output_type": "stream",
     "text": [
      "['DataModal_meds', 'DataModal_flow', 'DataModal_flow_meds', 'DataModal_preops_cbow_flow_meds', 'DataModal_preops_cbow_homemeds_flow_meds', 'DataModal_preops_cbow_pmh_problist_homemeds_flow_meds']\n"
     ]
    }
   ],
   "source": [
    "print(ablation_name_list)"
   ]
  },
  {
   "cell_type": "code",
   "execution_count": 55,
   "id": "2cdc6411",
   "metadata": {},
   "outputs": [
    {
     "name": "stdout",
     "output_type": "stream",
     "text": [
      "                                       postop_los        opioids_count_day0  \\\n",
      "                                        XGBTtsSum   lstm          XGBTtsSum   \n",
      "meds                                        0.251  0.213              0.241   \n",
      "flow                                        0.336    TBF              0.268   \n",
      "flow_meds                                   0.359    TBF              0.283   \n",
      "preops_flow_meds                            0.412    TBF              0.337   \n",
      "preops_homemeds_flow_meds                   0.432    TBF              0.345   \n",
      "preops_pmh_problist_homemeds_flow_meds      0.571    TBF              0.338   \n",
      "\n",
      "                                              opioids_count_day1         \n",
      "                                         lstm          XGBTtsSum   lstm  \n",
      "meds                                    0.164              0.312  0.262  \n",
      "flow                                      TBF              0.354    TBF  \n",
      "flow_meds                                 TBF              0.376    TBF  \n",
      "preops_flow_meds                          TBF              0.439    TBF  \n",
      "preops_homemeds_flow_meds                 TBF              0.441    TBF  \n",
      "preops_pmh_problist_homemeds_flow_meds    TBF              0.445    TBF  \n",
      "\\begin{tabular}{lllllll}\n",
      "\\toprule\n",
      "{} & \\multicolumn{2}{l}{postop\\_los} & \\multicolumn{2}{l}{opioids\\_count\\_day0} & \\multicolumn{2}{l}{opioids\\_count\\_day1} \\\\\n",
      "{} &  XGBTtsSum &   lstm &          XGBTtsSum &   lstm &          XGBTtsSum &   lstm \\\\\n",
      "\\midrule\n",
      "meds                                   &      0.251 &  0.213 &              0.241 &  0.164 &              0.312 &  0.262 \\\\\n",
      "flow                                   &      0.336 &    TBF &              0.268 &    TBF &              0.354 &    TBF \\\\\n",
      "flow\\_meds                              &      0.359 &    TBF &              0.283 &    TBF &              0.376 &    TBF \\\\\n",
      "preops\\_flow\\_meds                       &      0.412 &    TBF &              0.337 &    TBF &              0.439 &    TBF \\\\\n",
      "preops\\_homemeds\\_flow\\_meds              &      0.432 &    TBF &              0.345 &    TBF &              0.441 &    TBF \\\\\n",
      "preops\\_pmh\\_problist\\_homemeds\\_flow\\_meds &      0.571 &    TBF &              0.338 &    TBF &              0.445 &    TBF \\\\\n",
      "\\bottomrule\n",
      "\\end{tabular}\n",
      "\n"
     ]
    },
    {
     "name": "stderr",
     "output_type": "stream",
     "text": [
      "/tmp/ipykernel_1239913/663321151.py:45: FutureWarning: In future versions `DataFrame.to_latex` is expected to utilise the base implementation of `Styler.to_latex` for formatting and rendering. The arguments signature may therefore change. It is recommended instead to use `DataFrame.style.to_latex` which also contains additional functionality.\n",
      "  R2_latex = R2_comb.to_latex()\n"
     ]
    }
   ],
   "source": [
    "comb_flag=0\n",
    "for outcome in reg_outcome_list:\n",
    "    perf_filename = sav_dir + str(outcome) + '_Best_perf_metrics_combined_' + pred_stage.lower() + '.pickle'\n",
    "    with open(perf_filename, 'rb') as file:\n",
    "        metric_data = pickle.load(file)\n",
    "    model_name_list = list(metric_data.keys())\n",
    "    ablation_name_list = list(metric_data[model_name_list[0]].keys())\n",
    "    ablation_name_list_pretty = [i.split(\"_\",1)[1] for i in ablation_name_list]\n",
    "    \n",
    "    df_Corr = pd.DataFrame(columns=model_name_list, index=ablation_name_list)\n",
    "    df_R2 = pd.DataFrame(columns=model_name_list, index=ablation_name_list)\n",
    "    \n",
    "    for key, value in metric_data.items():\n",
    "        for ab in ablation_name_list:\n",
    "            try:\n",
    "                df_Corr.loc[ab, key] = np.round(np.mean(value[ab][:,0]), decimals=3)\n",
    "                df_R2.loc[ab, key] = np.round(np.mean(value[ab][:,2]), decimals=3)\n",
    "            except(KeyError):\n",
    "                df_Corr.loc[ab, key] = 'TBF'\n",
    "                df_R2.loc[ab, key] = 'TBF'\n",
    "\n",
    "    # renaming the index\n",
    "    df_Corr = df_Corr.rename(index=dict(zip(df_Corr.index, ablation_name_list_pretty)))\n",
    "    df_R2 = df_R2.rename(index=dict(zip(df_R2.index, ablation_name_list_pretty)))\n",
    "    \n",
    "    new_columns = [(outcome, col) for col in df_Corr.columns]\n",
    "    new_column_index = pd.MultiIndex.from_tuples(new_columns)\n",
    "    \n",
    "    df_Corr.columns = new_column_index\n",
    "    df_R2.columns = new_column_index\n",
    "\n",
    "    if comb_flag==0:\n",
    "        Corr_comb = df_Corr\n",
    "        R2_comb = df_R2\n",
    "    else:\n",
    "        Corr_comb = pd.concat([Corr_comb, df_Corr], axis=1)\n",
    "        R2_comb = pd.concat([R2_comb, df_R2], axis=1)\n",
    "    comb_flag = comb_flag + 1\n",
    "\n",
    "#     print(\" Outcome \", outcome, \" Correlation\")\n",
    "#     pprint.pp(df_Corr)\n",
    "#     print(\"\\n Outcome \", outcome, \" R2 score\")\n",
    "#     pprint.pp(df_R2)\n",
    "pprint.pp(R2_comb)\n",
    "R2_latex = R2_comb.to_latex()\n",
    "print(R2_latex)"
   ]
  },
  {
   "cell_type": "code",
   "execution_count": null,
   "id": "8a4fc019",
   "metadata": {
    "pycharm": {
     "name": "#%%\n"
    }
   },
   "outputs": [],
   "source": []
  }
 ],
 "metadata": {
  "kernelspec": {
   "display_name": "Python 3 (ipykernel)",
   "language": "python",
   "name": "python3"
  },
  "language_info": {
   "codemirror_mode": {
    "name": "ipython",
    "version": 3
   },
   "file_extension": ".py",
   "mimetype": "text/x-python",
   "name": "python",
   "nbconvert_exporter": "python",
   "pygments_lexer": "ipython3",
   "version": "3.9.18"
  }
 },
 "nbformat": 4,
 "nbformat_minor": 5
}
